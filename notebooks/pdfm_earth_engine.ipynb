{
  "nbformat": 4,
  "nbformat_minor": 0,
  "metadata": {
    "colab": {
      "provenance": []
    },
    "kernelspec": {
      "name": "python3",
      "display_name": "Python 3"
    },
    "language_info": {
      "name": "python"
    }
  },
  "cells": [
    {
      "cell_type": "markdown",
      "source": [
        "Copyright 2024 Google LLC. Licensed under the Apache License, Version 2.0 (the \"License\");"
      ],
      "metadata": {
        "id": "2wZFe1fVVv6m"
      }
    },
    {
      "cell_type": "code",
      "source": [
        "# Licensed under the Apache License, Version 2.0 (the \"License\");\n",
        "# you may not use this file except in compliance with the License.\n",
        "# You may obtain a copy of the License at\n",
        "#\n",
        "# https://www.apache.org/licenses/LICENSE-2.0\n",
        "#\n",
        "# Unless required by applicable law or agreed to in writing, software\n",
        "# distributed under the License is distributed on an \"AS IS\" BASIS,\n",
        "# WITHOUT WARRANTIES OR CONDITIONS OF ANY KIND, either express or implied.\n",
        "# See the License for the specific language governing permissions and\n",
        "# limitations under the License"
      ],
      "metadata": {
        "id": "XoUVQTEEVzr4"
      },
      "execution_count": null,
      "outputs": []
    },
    {
      "cell_type": "code",
      "execution_count": null,
      "metadata": {
        "id": "8JLU3ledeHRG"
      },
      "outputs": [],
      "source": [
        "import ee\n",
        "\n",
        "ee.Authenticate()"
      ]
    },
    {
      "cell_type": "code",
      "source": [
        "#@markdown Specify Earth Engine project id.\n",
        "PROJECT_ID = ''  # @param {type:\"string\"}\n",
        "ee.Initialize(project=PROJECT_ID)"
      ],
      "metadata": {
        "id": "pY0rYspRemkn"
      },
      "execution_count": null,
      "outputs": []
    },
    {
      "cell_type": "code",
      "source": [],
      "metadata": {
        "id": "aY27nSNoesVR"
      },
      "execution_count": null,
      "outputs": []
    },
    {
      "cell_type": "markdown",
      "source": [
        "# Load data from Google Earth Engine"
      ],
      "metadata": {
        "id": "B8BY_6Anpf7z"
      }
    },
    {
      "cell_type": "code",
      "source": [
        "# Load and filter zip code feature collection\n",
        "zips = ee.FeatureCollection('TIGER/2010/ZCTA5').filter(ee.Filter.lt(\"ALAND10\", 10130491060))\n",
        "print('num zips:', zips.size().getInfo())"
      ],
      "metadata": {
        "id": "5mjlWsGCez-V"
      },
      "execution_count": null,
      "outputs": []
    },
    {
      "cell_type": "code",
      "source": [
        "# Filter for contiguous US\n",
        "contiguous_us = ee.Geometry.Rectangle([-127.18, 19.39, -62.75, 51.29])\n",
        "zips = zips.filterBounds(contiguous_us)\n",
        "print('contiguous US zips:', zips.size().getInfo())"
      ],
      "metadata": {
        "id": "_jGQcWsHe4wF"
      },
      "execution_count": null,
      "outputs": []
    },
    {
      "cell_type": "code",
      "source": [
        "nighttime_lights = ee.ImageCollection('NOAA/VIIRS/DNB/ANNUAL_V22').select('median').median()  # 500m resolution"
      ],
      "metadata": {
        "id": "4X-fxtlie8DX"
      },
      "execution_count": null,
      "outputs": []
    },
    {
      "cell_type": "code",
      "source": [
        "def summarize_region(feature):\n",
        "  feature = feature.simplify(50)\n",
        "\n",
        "  def process_geometries(geometry):\n",
        "    geometry = ee.Geometry(geometry)\n",
        "    return ee.Algorithms.If(\n",
        "        ee.String(geometry.type()).compareTo('Polygon'), None, geometry\n",
        "    )\n",
        "\n",
        "  if feature.geometry().type() != 'Polygon':\n",
        "    filtered_geoms = (\n",
        "        feature.geometry()\n",
        "        .geometries()\n",
        "        .map(process_geometries)\n",
        "        .filter(ee.Filter.notNull(['item']))\n",
        "    )\n",
        "    feature = feature.setGeometry(ee.Geometry.MultiPolygon(filtered_geoms))\n",
        "\n",
        "  # Clip datasets to feature\n",
        "  lights = nighttime_lights.clip(feature.geometry()).reduceRegion(\n",
        "      reducer=ee.Reducer.mean(), scale=500, maxPixels=1e9\n",
        "  )\n",
        "\n",
        "  # Set the computed values to the feature\n",
        "  feature = feature.set({\n",
        "      'night_lights': lights.get('median'),\n",
        "  })\n",
        "  return feature\n",
        "\n",
        "\n",
        "# Polling function to check task status\n",
        "def poll_task(task, task_name, interval=120):\n",
        "  print(f'Polling {task_name} task...')\n",
        "  while task.active():\n",
        "    print(f\"{task_name} task status: {task.status()['state']}\")\n",
        "    time.sleep(interval)\n",
        "  final_status = task.status()['state']\n",
        "  print(f'{task_name} task completed with status: {final_status}')"
      ],
      "metadata": {
        "id": "Xe11mtFDfZkI"
      },
      "execution_count": null,
      "outputs": []
    },
    {
      "cell_type": "code",
      "source": [
        "data = zips.map(summarize_region)"
      ],
      "metadata": {
        "id": "iMHLO1u9fq5z"
      },
      "execution_count": null,
      "outputs": []
    },
    {
      "cell_type": "code",
      "source": [
        "# Export results to drive\n",
        "export_drive_task = ee.batch.Export.table.toDrive(\n",
        "    collection=data,\n",
        "    description='zipcode_environmental_simplified',\n",
        "    folder='content',\n",
        "    fileFormat='GeoJSON'\n",
        ")\n",
        "export_drive_task.start()"
      ],
      "metadata": {
        "id": "WGsrMGGIfyJB"
      },
      "execution_count": null,
      "outputs": []
    },
    {
      "cell_type": "code",
      "source": [],
      "metadata": {
        "id": "-Rh8ErmtkOYm"
      },
      "execution_count": null,
      "outputs": []
    },
    {
      "cell_type": "code",
      "source": [
        "import time\n",
        "poll_task(export_drive_task, \"Export to Drive\")"
      ],
      "metadata": {
        "id": "SfsvHjQzkFAx"
      },
      "execution_count": null,
      "outputs": []
    },
    {
      "cell_type": "markdown",
      "source": [
        "# Using PDFM Embeddings and Nightime lights in a prediction task"
      ],
      "metadata": {
        "id": "hN4NgAVEpkVC"
      }
    },
    {
      "cell_type": "markdown",
      "source": [
        "#### The following cells in this notebook will access the PD-Foundations embeddings directly from a BigQuery table.\n",
        "\n",
        "⚠️ Important: To run these cells successfully, you must first obtain access to the embeddings dataset via a BigQuery Listing. Please use [this form](https://forms.gle/ysdp5uUoPrMrhjZQA) to apply for research access or to join the Early Access Program waitlist.\n",
        "\n",
        "Once your access is approved, ensure you are authenticated in this Colab with a Google account that has permission to query the BigQuery table.."
      ],
      "metadata": {
        "id": "hxV93WkOsffe"
      }
    },
    {
      "cell_type": "code",
      "source": [
        "import pandas as pd\n",
        "\n",
        "# @markdown Specify the BigQuery table ID for the embeddings.\n",
        "# Example: 'your-gcp-project.your_dataset.your_table'\n",
        "bigquery_table_id = '{PROJECT_ID}.pdfm_embeddings.us_embeddings_postal_code_v0' # @param {type:\"string\"}\n",
        "\n",
        "# Construct the SQL query.\n",
        "# This query selects all columns from the specified BigQuery table.\n",
        "# Ensure your BigQuery table has a column named 'place' to be used as the index.\n",
        "query = f\"SELECT * FROM `{bigquery_table_id}`\"\n",
        "\n",
        "# Load data from BigQuery into a pandas DataFrame.\n",
        "# pd.read_gbq handles authentication using your Colab credentials.\n",
        "zipcode_embeddings = pd.read_gbq(query, project_id='pdfm-ttp-504664', dialect='standard').set_index('place_name')"
      ],
      "metadata": {
        "id": "BI5VSx_Zp0b-"
      },
      "execution_count": null,
      "outputs": []
    },
    {
      "cell_type": "code",
      "source": [
        "zipcode_embeddings.index = zipcode_embeddings.index.map(lambda x: f'zip/{x}')"
      ],
      "metadata": {
        "id": "PYI6XdQYuHsL"
      },
      "execution_count": null,
      "outputs": []
    },
    {
      "cell_type": "code",
      "source": [
        "zipcode_embeddings.head(2)"
      ],
      "metadata": {
        "id": "CWQgC10A676R"
      },
      "execution_count": null,
      "outputs": []
    },
    {
      "cell_type": "code",
      "source": [
        "embedding_features = [f'feature{x}' for x in range(330)]"
      ],
      "metadata": {
        "id": "NlbJwXG2Bq88"
      },
      "execution_count": null,
      "outputs": []
    },
    {
      "cell_type": "code",
      "source": [],
      "metadata": {
        "id": "9BSc66C86Kv8"
      },
      "execution_count": null,
      "outputs": []
    },
    {
      "cell_type": "code",
      "source": [
        "#@title: Mount the drive folder which has the downloaded data from earth engine\n",
        "from google.colab import drive\n",
        "\n",
        "drive.mount('/content/drive', force_remount=True)"
      ],
      "metadata": {
        "id": "5k36cTml6OWu"
      },
      "execution_count": null,
      "outputs": []
    },
    {
      "cell_type": "markdown",
      "source": [
        "## Load the night time lights data"
      ],
      "metadata": {
        "id": "_J_LHbO7sjA2"
      }
    },
    {
      "cell_type": "code",
      "source": [
        "import geopandas as gpd\n",
        "\n",
        "nighttime_lights_gdf = gpd.read_file('/content/drive/MyDrive/content/zipcode_environmental_simplified.geojson')\n",
        "nighttime_lights_gdf['ZCTA5CE10'] =  nighttime_lights_gdf['ZCTA5CE10'].apply(lambda x: f'zip/{x}')\n",
        "nighttime_lights_gdf.set_index('ZCTA5CE10', inplace=True)\n",
        "nighttime_lights_gdf.index.name = 'place_name'"
      ],
      "metadata": {
        "id": "uBW3E2imrNzc"
      },
      "execution_count": null,
      "outputs": []
    },
    {
      "cell_type": "code",
      "source": [],
      "metadata": {
        "id": "GmltOKg_soMF"
      },
      "execution_count": null,
      "outputs": []
    },
    {
      "cell_type": "code",
      "source": [
        "nighttime_lights_gdf.head(2)\n"
      ],
      "metadata": {
        "id": "FWkQ0ortwjpD"
      },
      "execution_count": null,
      "outputs": []
    },
    {
      "cell_type": "code",
      "source": [
        "nighttime_lights_df = pd.DataFrame({'place_name': nighttime_lights_gdf.index, 'night_lights': nighttime_lights_gdf['night_lights']}).reset_index(drop=True)\n",
        "nighttime_lights_df.set_index('place_name', inplace=True)"
      ],
      "metadata": {
        "id": "QO2da8hzA9VH"
      },
      "execution_count": null,
      "outputs": []
    },
    {
      "cell_type": "code",
      "source": [],
      "metadata": {
        "id": "bYyNw9dPNkRm"
      },
      "execution_count": null,
      "outputs": []
    },
    {
      "cell_type": "markdown",
      "source": [
        "## Visualization"
      ],
      "metadata": {
        "id": "Tbgu6gGTNlR3"
      }
    },
    {
      "cell_type": "code",
      "source": [
        "def get_locale(df, index, states=None, counties=None):\n",
        "  df = df[df.index.isin(index)]\n",
        "  if not states and not counties:\n",
        "    return df\n",
        "  filter = df.state.isin(states)\n",
        "  if counties:\n",
        "    filter &= df.county.isin(counties)\n",
        "  return df[filter]"
      ],
      "metadata": {
        "id": "4BGp7-8gPGHM"
      },
      "execution_count": null,
      "outputs": []
    },
    {
      "cell_type": "code",
      "source": [
        "df = zipcode_embeddings.join(nighttime_lights_gdf)\n",
        "gdf = gpd.GeoDataFrame(df, geometry='geometry')"
      ],
      "metadata": {
        "id": "WI0UpmXdPvIO"
      },
      "execution_count": null,
      "outputs": []
    },
    {
      "cell_type": "code",
      "source": [
        "feature = 'night_lights'\n",
        "state = 'New York'"
      ],
      "metadata": {
        "id": "JlvYTCTKRw_L"
      },
      "execution_count": null,
      "outputs": []
    },
    {
      "cell_type": "code",
      "metadata": {
        "id": "WI0UpmdPvIO"
      },
      "source": [
        "df = zipcode_embeddings.join(nighttime_lights_gdf)\n",
        "gdf = gpd.GeoDataFrame(df, geometry='geometry')\n",
        "gdf['state'] = gdf['location_metadata'].apply(lambda x: x.get('administrative_area_level1'))\n",
        "gdf['county'] = gdf['location_metadata'].apply(lambda x: x.get('administrative_area_level2'))"
      ],
      "execution_count": null,
      "outputs": []
    },
    {
      "cell_type": "code",
      "source": [
        "gdf.head()"
      ],
      "metadata": {
        "id": "25fQpI3r76TD"
      },
      "execution_count": null,
      "outputs": []
    },
    {
      "cell_type": "code",
      "source": [
        "locale_gdf = get_locale(gdf, zipcode_embeddings.index, states=[state])\n",
        "\n",
        "# Filter out rows with None or empty geometries to prevent errors in total_bounds calculation\n",
        "locale_gdf = locale_gdf[~locale_gdf.geometry.is_empty & ~locale_gdf.geometry.isna()]\n",
        "\n",
        "if not locale_gdf.empty:\n",
        "  ax = locale_gdf.plot(feature, legend=True)\n",
        "  _ = ax.set_title(feature + ' in zipcodes of ' + state)\n",
        "else:\n",
        "  print(f\"No valid data found for state: {state}. Check the 'state' column in gdf and the content of location_metadata for inconsistencies.\")"
      ],
      "metadata": {
        "id": "JkKUDUc9PE-D"
      },
      "execution_count": null,
      "outputs": []
    },
    {
      "cell_type": "markdown",
      "source": [
        "# Modelling"
      ],
      "metadata": {
        "id": "L0DCX2TNNeQy"
      }
    },
    {
      "cell_type": "code",
      "source": [
        "from sklearn import metrics as skmetrics\n",
        "import math\n",
        "import matplotlib.pyplot as plt\n",
        "\n",
        "def evaluate(df: pd.DataFrame) -> dict[float]:\n",
        "  \"\"\"Evaluates the model performance on the given dataframe.\n",
        "\n",
        "  Args:\n",
        "    df: A pandas DataFrame with columns 'y' and 'y_pred'.\n",
        "  Returns:\n",
        "    A dictionary of performance metrics.\n",
        "  \"\"\"\n",
        "\n",
        "  df = df.dropna(subset='y')\n",
        "  df = df[df.y != 0]\n",
        "  r2 = skmetrics.r2_score(df.y, df.y_pred)\n",
        "  r = df['y'].corr(df['y_pred'])\n",
        "  rmse = math.sqrt(skmetrics.mean_squared_error(df.y, df.y_pred))\n",
        "  mae = skmetrics.mean_absolute_error(df.y, df.y_pred)\n",
        "  mape = skmetrics.mean_absolute_percentage_error(df.y, df.y_pred)\n",
        "  return {'r2': r2, 'rmse': rmse, 'mae': mae, 'mape': mape, 'r': r}\n",
        "\n",
        "\n",
        "\n",
        "def plot_actual_vs_predicted(df: pd.DataFrame):\n",
        "    \"\"\"Plots actual vs. predicted values to visualize model performance.\n",
        "\n",
        "    Args:\n",
        "      df: A pandas DataFrame with columns 'y' and 'y_pred'.\n",
        "    \"\"\"\n",
        "    plt.figure(figsize=(8, 6))\n",
        "    plt.scatter(df['y'], df['y_pred'], alpha=0.5)\n",
        "    plt.plot([df['y'].min(), df['y'].max()], [df['y'].min(), df['y'].max()], 'r--', linewidth=2)  # Reference line\n",
        "    plt.xlabel('Actual Values (y)')\n",
        "    plt.ylabel('Predicted Values (y_pred)')\n",
        "    plt.title('Actual vs. Predicted Values')\n",
        "    plt.grid(True)\n",
        "    plt.show()"
      ],
      "metadata": {
        "id": "_1-fnS52MJT6"
      },
      "execution_count": null,
      "outputs": []
    },
    {
      "cell_type": "code",
      "source": [
        "import numpy as np\n",
        "from sklearn.model_selection import train_test_split\n",
        "from sklearn.linear_model import LinearRegression\n",
        "from sklearn.metrics import mean_squared_error, r2_score\n",
        "\n",
        "data = zipcode_embeddings.merge(nighttime_lights_df, left_index=True, right_index=True)\n",
        "label = 'night_lights'\n",
        "\n",
        "X = data['features']\n",
        "y = data[label]\n",
        "\n",
        "# Convert the Series of lists into a DataFrame where each list element is a column\n",
        "X = pd.DataFrame(X.tolist(), index=X.index)\n",
        "\n",
        "X_train, X_test, y_train, y_test = train_test_split(X, y, test_size=0.2, random_state=42)\n",
        "\n",
        "# Initialize and train a simple linear regression model\n",
        "model = LinearRegression()\n",
        "model.fit(X_train, y_train)\n",
        "\n",
        "# Make predictions\n",
        "y_pred = model.predict(X_test)\n",
        "\n",
        "evaluation_df = pd.DataFrame({'y': y_test, 'y_pred': y_pred})\n",
        "# Evaluate the model\n",
        "metrics = evaluate(evaluation_df)\n",
        "print(metrics)\n",
        "plot_actual_vs_predicted(evaluation_df)"
      ],
      "metadata": {
        "id": "UTD3U9-BD9-N"
      },
      "execution_count": null,
      "outputs": []
    },
    {
      "cell_type": "code",
      "source": [
        "from sklearn.neighbors import KNeighborsRegressor\n",
        "\n",
        "k = 5\n",
        "model = KNeighborsRegressor(n_neighbors=k)\n",
        "model.fit(X_train, y_train)\n",
        "\n",
        "y_pred = model.predict(X_test)\n",
        "\n",
        "evaluation_df = pd.DataFrame({'y': y_test, 'y_pred': y_pred})\n",
        "# Evaluate the model\n",
        "metrics = evaluate(evaluation_df)\n",
        "print(metrics)\n",
        "plot_actual_vs_predicted(evaluation_df)"
      ],
      "metadata": {
        "id": "_721mDYrLgRz"
      },
      "execution_count": null,
      "outputs": []
    }
  ]
}